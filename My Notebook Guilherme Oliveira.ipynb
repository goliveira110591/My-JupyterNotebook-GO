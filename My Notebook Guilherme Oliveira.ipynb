{
 "cells": [
  {
   "cell_type": "markdown",
   "id": "8d2bb8b2-6ca3-4afe-9f67-b999c3e49335",
   "metadata": {},
   "source": [
    "# My Jupiter Notebook on IBM Skills Network Labs"
   ]
  },
  {
   "cell_type": "markdown",
   "id": "07024c5e-2983-4552-aa02-6a844d2942d9",
   "metadata": {},
   "source": [
    "**Guilherme Oliveira**"
   ]
  },
  {
   "cell_type": "markdown",
   "id": "accbbb38-fd94-465c-a6e6-10e3a6d1c12f",
   "metadata": {},
   "source": [
    "Data Analyst"
   ]
  },
  {
   "cell_type": "markdown",
   "id": "9c356fbe-ee58-4fea-a764-52a102182b2d",
   "metadata": {},
   "source": [
    "*I'm interested in Data Science since i consider it useful and crucial for the career path i want to pursue*"
   ]
  },
  {
   "cell_type": "markdown",
   "id": "fe18720b-e8c2-49a1-a12a-0a205d4382b0",
   "metadata": {},
   "source": [
    "The following code tests the Gauss Formula"
   ]
  },
  {
   "cell_type": "code",
   "execution_count": 3,
   "id": "069517f9-e1d5-4037-834b-21c50c7b4bc4",
   "metadata": {},
   "outputs": [
    {
     "data": {
      "text/plain": [
       "True"
      ]
     },
     "execution_count": 3,
     "metadata": {},
     "output_type": "execute_result"
    }
   ],
   "source": [
    "def gauss (n):\n",
    "    return (n*(n+1))/2\n",
    "gauss(100) == sum(range(101))"
   ]
  },
  {
   "cell_type": "code",
   "execution_count": 4,
   "id": "e90158bc-8e40-4cff-b79f-bac3fcd34f83",
   "metadata": {},
   "outputs": [
    {
     "data": {
      "text/plain": [
       "2"
      ]
     },
     "execution_count": 4,
     "metadata": {},
     "output_type": "execute_result"
    }
   ],
   "source": [
    "1+1"
   ]
  },
  {
   "cell_type": "code",
   "execution_count": 5,
   "id": "674878fd-6111-42a3-ab3d-58c5e85eae5d",
   "metadata": {},
   "outputs": [
    {
     "data": {
      "text/plain": [
       "6"
      ]
     },
     "execution_count": 5,
     "metadata": {},
     "output_type": "execute_result"
    }
   ],
   "source": [
    "2*3"
   ]
  },
  {
   "cell_type": "markdown",
   "id": "6f722f7e-75fe-40fb-b5bd-cc32ccfb1c08",
   "metadata": {},
   "source": [
    "1. XXX\n",
    "2. ZZZ\n",
    "3. AAA\n",
    "4. TTT"
   ]
  },
  {
   "cell_type": "code",
   "execution_count": null,
   "id": "9d540bda-0a12-4061-9101-8e01d289bd2b",
   "metadata": {},
   "outputs": [],
   "source": []
  }
 ],
 "metadata": {
  "kernelspec": {
   "display_name": "Python",
   "language": "python",
   "name": "conda-env-python-py"
  },
  "language_info": {
   "codemirror_mode": {
    "name": "ipython",
    "version": 3
   },
   "file_extension": ".py",
   "mimetype": "text/x-python",
   "name": "python",
   "nbconvert_exporter": "python",
   "pygments_lexer": "ipython3",
   "version": "3.7.12"
  }
 },
 "nbformat": 4,
 "nbformat_minor": 5
}
